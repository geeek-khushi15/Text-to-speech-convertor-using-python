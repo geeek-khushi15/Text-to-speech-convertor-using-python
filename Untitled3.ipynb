{
  "nbformat": 4,
  "nbformat_minor": 0,
  "metadata": {
    "colab": {
      "provenance": []
    },
    "kernelspec": {
      "name": "python3",
      "display_name": "Python 3"
    },
    "language_info": {
      "name": "python"
    }
  },
  "cells": [
    {
      "cell_type": "code",
      "execution_count": 1,
      "metadata": {
        "colab": {
          "base_uri": "https://localhost:8080/"
        },
        "id": "HJAvgsiEOJrU",
        "outputId": "89770a27-1c7e-4920-d2d5-01e2c0769cc6"
      },
      "outputs": [
        {
          "output_type": "stream",
          "name": "stdout",
          "text": [
            "Collecting gTTS\n",
            "  Downloading gTTS-2.5.1-py3-none-any.whl (29 kB)\n",
            "Requirement already satisfied: requests<3,>=2.27 in /usr/local/lib/python3.10/dist-packages (from gTTS) (2.31.0)\n",
            "Requirement already satisfied: click<8.2,>=7.1 in /usr/local/lib/python3.10/dist-packages (from gTTS) (8.1.7)\n",
            "Requirement already satisfied: charset-normalizer<4,>=2 in /usr/local/lib/python3.10/dist-packages (from requests<3,>=2.27->gTTS) (3.3.2)\n",
            "Requirement already satisfied: idna<4,>=2.5 in /usr/local/lib/python3.10/dist-packages (from requests<3,>=2.27->gTTS) (3.7)\n",
            "Requirement already satisfied: urllib3<3,>=1.21.1 in /usr/local/lib/python3.10/dist-packages (from requests<3,>=2.27->gTTS) (2.0.7)\n",
            "Requirement already satisfied: certifi>=2017.4.17 in /usr/local/lib/python3.10/dist-packages (from requests<3,>=2.27->gTTS) (2024.6.2)\n",
            "Installing collected packages: gTTS\n",
            "Successfully installed gTTS-2.5.1\n"
          ]
        }
      ],
      "source": [
        "! pip install gTTS"
      ]
    },
    {
      "cell_type": "code",
      "source": [
        "# Import the required module for text\n",
        "# to speech conversion\n",
        "from gtts import gTTS\n",
        "\n",
        "# This module is imported so that we can\n",
        "# play the converted audio\n",
        "import os\n",
        "\n",
        "# The text that you want to convert to audio\n",
        "mytext = input(\"Enter the text you want to convert to audio: \")\n",
        "\n",
        "# Language in which you want to convert\n",
        "language = 'en'\n",
        "\n",
        "# Passing the text and language to the engine,\n",
        "# here we have marked slow=False. Which tells\n",
        "# the module that the converted audio should\n",
        "# have a high speed\n",
        "myobj = gTTS(text=mytext, lang=language, slow=False)\n",
        "\n",
        "# Saving the converted audio in a mp3 file named\n",
        "# welcome\n",
        "myobj.save(\"welcome.mp3\")\n",
        "\n",
        "# Playing the converted file\n",
        "os.system(\"start welcome.mp3\")\n"
      ],
      "metadata": {
        "colab": {
          "base_uri": "https://localhost:8080/"
        },
        "id": "89cTiEWCOvML",
        "outputId": "8916b0bb-5d92-4332-b21f-d9de0b30efb2"
      },
      "execution_count": 5,
      "outputs": [
        {
          "name": "stdout",
          "output_type": "stream",
          "text": [
            "Enter the text you want to convert to audio: Hi my name is khushi and am data science enthisiast\n"
          ]
        },
        {
          "output_type": "execute_result",
          "data": {
            "text/plain": [
              "32512"
            ]
          },
          "metadata": {},
          "execution_count": 5
        }
      ]
    }
  ]
}